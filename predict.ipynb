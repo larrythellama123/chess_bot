{
 "cells": [
  {
   "cell_type": "code",
   "execution_count": 1,
   "id": "0645d72a",
   "metadata": {},
   "outputs": [],
   "source": [
    "from chess import Board, pgn\n",
    "from auxillary_func import board_to_matrix\n",
    "import torch\n",
    "from model import ChessModel\n",
    "import pickle\n",
    "import numpy as np\n"
   ]
  },
  {
   "cell_type": "code",
   "execution_count": 6,
   "id": "8be3f67c",
   "metadata": {},
   "outputs": [
    {
     "name": "stdout",
     "output_type": "stream",
     "text": [
      "Using device: cpu\n",
      "torch.Size([1, 13, 8, 8])\n",
      "[Event \"?\"]\n",
      "[Site \"?\"]\n",
      "[Date \"????.??.??\"]\n",
      "[Round \"?\"]\n",
      "[White \"?\"]\n",
      "[Black \"?\"]\n",
      "[Result \"*\"]\n",
      "\n",
      "1. d4 *\n"
     ]
    },
    {
     "name": "stderr",
     "output_type": "stream",
     "text": [
      "/tmp/ipykernel_5592/318076990.py:18: FutureWarning: You are using `torch.load` with `weights_only=False` (the current default value), which uses the default pickle module implicitly. It is possible to construct malicious pickle data which will execute arbitrary code during unpickling (See https://github.com/pytorch/pytorch/blob/main/SECURITY.md#untrusted-models for more details). In a future release, the default value for `weights_only` will be flipped to `True`. This limits the functions that could be executed during unpickling. Arbitrary objects will no longer be allowed to be loaded via this mode unless they are explicitly allowlisted by the user via `torch.serialization.add_safe_globals`. We recommend you start setting `weights_only=True` for any use case where you don't have full control of the loaded file. Please open an issue on GitHub for any issues related to this experimental feature.\n",
      "  model.load_state_dict(torch.load(\"models/TORCH_100EPOCHS.pth\"))\n"
     ]
    }
   ],
   "source": [
    "\n",
    "def prepare_input(board:Board):\n",
    "    matrix = board_to_matrix(board)\n",
    "    X_tensor = torch.tensor(matrix, dtype=torch.float32).unsqueeze(0)\n",
    "    X_tensor = X_tensor.reshape((1,13,8,8))\n",
    "    print(X_tensor.shape)\n",
    "    return X_tensor\n",
    "\n",
    "\n",
    "with open(\"models/heavy_move_to_int\", \"rb\") as file:\n",
    "    move_to_int = pickle.load(file)\n",
    "\n",
    "# Check for GPU\n",
    "device = torch.device(\"cuda\" if torch.cuda.is_available() else \"cpu\")\n",
    "print(f'Using device: {device}')\n",
    "\n",
    "# Load the model\n",
    "model = ChessModel(num_classes=len(move_to_int))\n",
    "model.load_state_dict(torch.load(\"models/TORCH_100EPOCHS.pth\"))\n",
    "model.to(device)\n",
    "model.eval()  # Set the model to evaluation mode (it may be reductant)\n",
    "\n",
    "\n",
    "\n",
    "int_to_move = {v: k for k, v in move_to_int.items()}\n",
    "# Function to make predictions\n",
    "def predict_move(board: Board):\n",
    "    X_tensor = prepare_input(board).to(device)\n",
    "    \n",
    "    with torch.no_grad():\n",
    "        logits = model(X_tensor)\n",
    "    \n",
    "    logits = logits.squeeze(0)  # Remove batch dimension\n",
    "    \n",
    "    probabilities = torch.softmax(logits, dim=0).cpu().numpy()  # Convert to probabilities\n",
    "    legal_moves = list(board.legal_moves)\n",
    "    legal_moves_uci = [move.uci() for move in legal_moves]\n",
    "    sorted_indices = np.argsort(probabilities)[::-1]\n",
    "    for move_index in sorted_indices:\n",
    "        move = int_to_move[move_index]\n",
    "        if move in legal_moves_uci:\n",
    "            return move\n",
    "    \n",
    "    return None\n",
    "\n",
    "\n",
    "\n",
    "\n",
    "# Initialize a chess board\n",
    "board = Board()\n",
    "\n",
    "\n",
    "\n",
    "# Predict and make a move\n",
    "best_move = predict_move(board)\n",
    "board.push_uci(best_move)\n",
    "board\n",
    "\n",
    "\n",
    "print(str(pgn.Game.from_board(board)))"
   ]
  }
 ],
 "metadata": {
  "kernelspec": {
   "display_name": "Python 3",
   "language": "python",
   "name": "python3"
  },
  "language_info": {
   "codemirror_mode": {
    "name": "ipython",
    "version": 3
   },
   "file_extension": ".py",
   "mimetype": "text/x-python",
   "name": "python",
   "nbconvert_exporter": "python",
   "pygments_lexer": "ipython3",
   "version": "3.10.12"
  }
 },
 "nbformat": 4,
 "nbformat_minor": 5
}
